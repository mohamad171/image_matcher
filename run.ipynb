{
 "cells": [
  {
   "cell_type": "code",
   "execution_count": 36,
   "metadata": {},
   "outputs": [],
   "source": [
    "import tensorflow as tf\n",
    "import numpy as np\n",
    "import cv2\n",
    "import os\n"
   ]
  },
  {
   "cell_type": "code",
   "execution_count": 37,
   "metadata": {},
   "outputs": [],
   "source": [
    "model = tf.keras.applications.VGG16(weights='imagenet', include_top=False, input_shape=(300, 300, 3))"
   ]
  },
  {
   "cell_type": "code",
   "execution_count": 38,
   "metadata": {},
   "outputs": [],
   "source": [
    "def extract_features_deep(image_path):\n",
    "    # Load and preprocess the image\n",
    "    image = cv2.imread(image_path)\n",
    "    image = cv2.resize(image, (300, 300))\n",
    "    image = tf.keras.applications.vgg16.preprocess_input(image)\n",
    "    image = np.expand_dims(image, axis=0)\n",
    "    \n",
    "    # Extract features\n",
    "    features = model.predict(image)\n",
    "    \n",
    "    # Flatten the feature maps\n",
    "    features = features.flatten()\n",
    "    \n",
    "    return features"
   ]
  },
  {
   "cell_type": "code",
   "execution_count": 2,
   "metadata": {},
   "outputs": [],
   "source": [
    "def extract_features(image_path):\n",
    "    # Load the image\n",
    "    image = cv2.imread(image_path, cv2.IMREAD_GRAYSCALE)\n",
    "    \n",
    "    # Create ORB detector\n",
    "    orb = cv2.ORB_create()\n",
    "    \n",
    "    # Find the keypoints and descriptors\n",
    "    keypoints, descriptors = orb.detectAndCompute(image, None)\n",
    "    \n",
    "    return descriptors"
   ]
  },
  {
   "cell_type": "code",
   "execution_count": 3,
   "metadata": {},
   "outputs": [],
   "source": [
    "def match_images(descriptor1, descriptor2):\n",
    "    # Create a Brute Force Matcher object\n",
    "    bf = cv2.BFMatcher(cv2.NORM_HAMMING, crossCheck=True)\n",
    "    \n",
    "    # Match descriptors\n",
    "    matches = bf.match(descriptor1, descriptor2)\n",
    "    \n",
    "    # Sort the matches based on distance (lower distance is better)\n",
    "    matches = sorted(matches, key=lambda x: x.distance)\n",
    "    \n",
    "    return matches"
   ]
  },
  {
   "cell_type": "code",
   "execution_count": 13,
   "metadata": {},
   "outputs": [],
   "source": [
    "def search_database(query_image_path, database_folder, threshold=100):\n",
    "    # Extract features from the query image\n",
    "    query_descriptors = extract_features(query_image_path)\n",
    "    \n",
    "    best_match = None\n",
    "    best_score = float('inf')\n",
    "    \n",
    "    for image_file in os.listdir(database_folder):\n",
    "        image_path = os.path.join(database_folder, image_file)\n",
    "        \n",
    "        # Extract features from the current database image\n",
    "        db_descriptors = extract_features(image_path)\n",
    "        \n",
    "        if db_descriptors is None or query_descriptors is None:\n",
    "            continue  # skip if no features are found in either image\n",
    "        \n",
    "        # Match the query image descriptors with the database image descriptors\n",
    "        matches = match_images(query_descriptors, db_descriptors)\n",
    "        \n",
    "        # Score based on the number of good matches (sum of distances)\n",
    "        score = sum([m.distance for m in matches])\n",
    "        \n",
    "        if score < best_score:\n",
    "            best_score = score\n",
    "            best_match = image_file\n",
    "    \n",
    "    # Check if the best match score exceeds the threshold\n",
    "    print(best_score)\n",
    "    if best_score > threshold:\n",
    "        return None  # No match found\n",
    "    \n",
    "    return best_match"
   ]
  },
  {
   "cell_type": "code",
   "execution_count": 39,
   "metadata": {},
   "outputs": [],
   "source": [
    "def search_database_deep(query_image_path, database_folder, threshold=0.5):\n",
    "    # Extract deep features for the query image\n",
    "    query_features = extract_features_deep(query_image_path)\n",
    "    \n",
    "    best_match = None\n",
    "    best_score = float(0)\n",
    "    \n",
    "    for image_file in os.listdir(database_folder):\n",
    "        image_path = os.path.join(database_folder, image_file)\n",
    "        \n",
    "        # Extract deep features for the current database image\n",
    "        db_features = extract_features_deep(image_path)\n",
    "        \n",
    "        # Calculate the cosine similarity between the feature vectors\n",
    "        score = np.dot(query_features, db_features) / (np.linalg.norm(query_features) * np.linalg.norm(db_features))\n",
    "        print(score)\n",
    "        if score > best_score:\n",
    "            best_score = score\n",
    "            best_match = image_file\n",
    "    print(best_score)\n",
    "    # Check if the best match score exceeds the threshold\n",
    "    if best_score > threshold:\n",
    "        return best_match\n",
    "    else:\n",
    "        return None"
   ]
  },
  {
   "cell_type": "code",
   "execution_count": 43,
   "metadata": {},
   "outputs": [
    {
     "name": "stdout",
     "output_type": "stream",
     "text": [
      "\u001b[1m1/1\u001b[0m \u001b[32m━━━━━━━━━━━━━━━━━━━━\u001b[0m\u001b[37m\u001b[0m \u001b[1m0s\u001b[0m 173ms/step\n",
      "\u001b[1m1/1\u001b[0m \u001b[32m━━━━━━━━━━━━━━━━━━━━\u001b[0m\u001b[37m\u001b[0m \u001b[1m0s\u001b[0m 175ms/step\n",
      "0.1398467\n",
      "\u001b[1m1/1\u001b[0m \u001b[32m━━━━━━━━━━━━━━━━━━━━\u001b[0m\u001b[37m\u001b[0m \u001b[1m0s\u001b[0m 179ms/step\n",
      "0.20445436\n",
      "0.20445436\n",
      "Best matching image: 1.png\n"
     ]
    }
   ],
   "source": [
    "# Path to the captured image\n",
    "query_image_path = 'test_images/1.png'\n",
    "\n",
    "# Path to the folder where your database images are stored\n",
    "database_folder = 'sample_images'\n",
    "\n",
    "# Find the best match in the database\n",
    "best_match = search_database_deep(query_image_path, database_folder, threshold=0.2)\n",
    "\n",
    "if best_match:\n",
    "    print(f\"Best matching image: {best_match}\")\n",
    "else:\n",
    "    print(\"No similar image found in the database.\")"
   ]
  }
 ],
 "metadata": {
  "kernelspec": {
   "display_name": "env",
   "language": "python",
   "name": "python3"
  },
  "language_info": {
   "codemirror_mode": {
    "name": "ipython",
    "version": 3
   },
   "file_extension": ".py",
   "mimetype": "text/x-python",
   "name": "python",
   "nbconvert_exporter": "python",
   "pygments_lexer": "ipython3",
   "version": "3.10.12"
  }
 },
 "nbformat": 4,
 "nbformat_minor": 2
}
